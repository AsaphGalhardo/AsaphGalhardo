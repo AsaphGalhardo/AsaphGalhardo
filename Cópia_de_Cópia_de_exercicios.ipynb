{
  "nbformat": 4,
  "nbformat_minor": 0,
  "metadata": {
    "colab": {
      "provenance": [],
      "include_colab_link": true
    },
    "kernelspec": {
      "name": "python3",
      "display_name": "Python 3"
    },
    "language_info": {
      "name": "python"
    }
  },
  "cells": [
    {
      "cell_type": "markdown",
      "metadata": {
        "id": "view-in-github",
        "colab_type": "text"
      },
      "source": [
        "<a href=\"https://colab.research.google.com/github/AsaphGalhardo/AsaphGalhardo/blob/main/C%C3%B3pia_de_C%C3%B3pia_de_exercicios.ipynb\" target=\"_parent\"><img src=\"https://colab.research.google.com/assets/colab-badge.svg\" alt=\"Open In Colab\"/></a>"
      ]
    },
    {
      "cell_type": "markdown",
      "source": [
        "***Exercicio 1 :***\n",
        "Faça um algoritmo que receba dois números e exiba o resultado da sua soma."
      ],
      "metadata": {
        "id": "XmtXXen-l0VI"
      }
    },
    {
      "cell_type": "code",
      "source": [
        "numero1 = int(input(\"Escreva um numero : \"))\n",
        "numero2 = int(input(\"Escreva um numero : \"))\n",
        "print( \"O resultado sa soma é : \" , numero1 + numero2)"
      ],
      "metadata": {
        "id": "DskqCjtVl1rh"
      },
      "execution_count": null,
      "outputs": []
    },
    {
      "cell_type": "markdown",
      "source": [
        "***Exercicio 2 :***\n",
        "Faça um algoritmo que receba dois números e ao final mostre a soma, subtração, multiplicação e a divisão dos\n",
        "números lidos.\n",
        "\n",
        "\n"
      ],
      "metadata": {
        "id": "A4K1FOZHl2Rg"
      }
    },
    {
      "cell_type": "code",
      "source": [
        "numero1 = int(input(\"Digite um numero : \"))\n",
        "numero2 = int(input(\"Digite outro numero : \"))\n",
        "operacao  = input(\"Digite o operador que quer usar : +, -, *, / \")\n",
        "\n",
        "\n",
        "if operacao == \"+\":\n",
        "  print(\"O resultado da soma é : \" , numero1 + numero2)\n",
        "if operacao == \"-\":\n",
        "  print (\"O resultado da subtrção é \" ,  numero1 - numero2)\n",
        "if operacao == \"*\":\n",
        "  print(\"O resultado da multiplicação é \" , numero1 * numero2)\n",
        "if operacao == \"/\":\n",
        "  print(\"O resultado da divisão é \" , numero1 / numero2 )\n",
        "else:\n",
        "  print(\"Operação invalida. Digite um operador correto\")\n",
        "\n",
        "\n"
      ],
      "metadata": {
        "id": "HxdEGr5BmvmS"
      },
      "execution_count": null,
      "outputs": []
    },
    {
      "cell_type": "markdown",
      "source": [
        "***Exercicio 3 :***\n",
        "Escrever um algoritmo para determinar o consumo médio de um automóvel sendo fornecida a distância total\n",
        "percorrida pelo automóvel e o total de combustível gasto."
      ],
      "metadata": {
        "id": "JOY6hsYOl5E5"
      }
    },
    {
      "cell_type": "code",
      "source": [
        "distancia = float(input(\"Digite a distancia percorrida : \"))\n",
        "combustivel = float(input(\"Digite o total de combustivel gasto : \"))\n",
        "print(\"O seu carro consome em média : \" , distancia / combustivel)"
      ],
      "metadata": {
        "id": "FqGOzzuvtygR"
      },
      "execution_count": null,
      "outputs": []
    },
    {
      "cell_type": "markdown",
      "source": [
        "***Exercicio 4 :***\n",
        "Escrever um algoritmo que leia o nome de um vendedor, o seu salário fixo e o total de vendas efetuadas por ele no\n",
        "mês (em dinheiro). Sabendo que este vendedor ganha 15% de comissão sobre suas vendas efetuadas, informar o\n",
        "seu nome, o salário fixo e salário no final do mês."
      ],
      "metadata": {
        "id": "VKGRGGohl8nI"
      }
    },
    {
      "cell_type": "code",
      "source": [
        "\n",
        "nome = input(\"Digite seu nome : \")\n",
        "salario = float(input(\"Informe seu salário: \"))\n",
        "vendas = float(input(\"Informe o total de vendas no mês, em dinheiro : \"))\n",
        "\n",
        "soma = vendas * 0.15\n",
        "resultado = soma + salario\n",
        "print(\"O vendedor \" , nome , \"recebe como salário fixo o valor de \" , salario , \" e com bonus de comissão o seu valor total é de  \" , resultado )"
      ],
      "metadata": {
        "id": "-57_te6nt2XA"
      },
      "execution_count": null,
      "outputs": []
    },
    {
      "cell_type": "markdown",
      "source": [
        "***Exercicio 5 :***\n",
        "Escrever um algoritmo que leia o nome de um aluno e as notas das três provas que ele obteve no semestre. No final\n",
        "informar o nome do aluno e a sua média (aritmética)."
      ],
      "metadata": {
        "id": "Ftrc2LILl_L4"
      }
    },
    {
      "cell_type": "code",
      "source": [
        "nome_aluno = input(\"Escreva seu nome :\")\n",
        "nota1 = float(input(\"Escreva nota da primeira prova :\"))\n",
        "nota2 = float(input(\"Escreva nota da segunda prova :\"))\n",
        "nota3 = float(input(\"Escreva nota da terceira prova : \"))\n",
        "media = 3\n",
        "soma = nota1 + nota2 + nota3\n",
        "resultado = soma / media\n",
        "print(\"O aluno \" , nome_aluno , \"obeteve no semestre a nota \" , resultado)"
      ],
      "metadata": {
        "id": "sb-czJgP6Wqr"
      },
      "execution_count": null,
      "outputs": []
    },
    {
      "cell_type": "markdown",
      "source": [
        " ***Exercicio  :***\n",
        " Ler dois valores para as variáveis A e B, e efetuar as trocas dos valores de forma que a variável A passe a possuir o\n",
        "valor da variável B e a variável B passe a possuir o valor da variável A. Apresentar os valores trocados"
      ],
      "metadata": {
        "id": "kEGXT1PFmBko"
      }
    },
    {
      "cell_type": "code",
      "source": [
        "a = int(input(\"Escreva um valor para A : \"))\n",
        "b = int(input(\"Escreva um valor para B : \"))\n",
        "print(a)\n",
        "print(b)\n",
        "valor = a\n",
        "a = print(\" O valor de A é \" , b)\n",
        "b = print(\" O valor de B é \" , valor )\n"
      ],
      "metadata": {
        "id": "g_42O1Qq8uO7"
      },
      "execution_count": null,
      "outputs": []
    },
    {
      "cell_type": "markdown",
      "source": [
        " ***Exercicio 7 :***\n",
        "Ler uma temperatura em graus Celsius e apresentá-la convertida em graus Fahrenheit. A fórmula de conversão é:\n",
        "F=(9*C+160) / 5, sendo F a temperatura em Fahrenheit e C a temperatura em Celsius."
      ],
      "metadata": {
        "id": "6h2_dIK0mIZn"
      }
    },
    {
      "cell_type": "code",
      "source": [
        "temp_cel = float(input(\"Digite sua temperatura em graus Celsius : \"))\n",
        "soma = (9*temp_cel+160) / 5\n",
        "print(\"A sua temperatura em Fahrenheit é \" , soma)"
      ],
      "metadata": {
        "id": "4wgSFreCApl5"
      },
      "execution_count": null,
      "outputs": []
    },
    {
      "cell_type": "markdown",
      "source": [
        " ***Exercicio 8 :***\n",
        " Elaborar um algoritmo que efetue a apresentação do valor da conversão em real (R$) de um valor lido em dólar\n",
        "(US$). O algoritmo deverá solicitar o valor da cotação do dólar e também a quantidade de dólares disponíveis com o\n",
        "usuário."
      ],
      "metadata": {
        "id": "ckfvbZL8mL25"
      }
    },
    {
      "cell_type": "code",
      "source": [
        "real = float(input(\"Escreva o seu valor em real : \"))\n",
        "dolar = 0.20\n",
        "soma = real * dolar\n",
        "print(\"Convertendo de real para dólar o usuário tem \" , soma , \"dólares\")"
      ],
      "metadata": {
        "id": "58wUrimFErdn"
      },
      "execution_count": null,
      "outputs": []
    },
    {
      "cell_type": "markdown",
      "source": [
        "***Exercicio 9 :***\n",
        "Faça um algoritmo que receba um valor que foi depositado e exiba o valor com rendimento após um mês.\n",
        " Considere fixo o juro da poupança em 0,70% a. m.\n"
      ],
      "metadata": {
        "id": "J__xvRDEmV1Q"
      }
    },
    {
      "cell_type": "code",
      "source": [
        "valor = int(input(\"Digite o valor depositado : \"))\n",
        "res = (valor*0.007)\n",
        "print(type(res))\n",
        "#print(\"A quantidade do rendimento foi de :\" , resultado)\n",
        "#print(f\" é a quantia de rendimento em um mÊs {resultado}\")"
      ],
      "metadata": {
        "id": "PXUsoIOQGOCB"
      },
      "execution_count": null,
      "outputs": []
    },
    {
      "cell_type": "markdown",
      "source": [
        "***Exercicio 10 :***\n",
        "A Loja Mamão com Açúcar está vendendo seus produtos em 5 (cinco) prestações sem juros. Faça um algoritmo que\n",
        "receba um valor de uma compra e mostre o valor das prestações."
      ],
      "metadata": {
        "id": "mKPPX4J1mWwA"
      }
    },
    {
      "cell_type": "code",
      "source": [
        "compra = float(input(\"Digite o valor de sua compra : \"))\n",
        "prestacao = 5\n",
        "print(\"O valor das 5 prestações serão de : \" , compra / prestacao)"
      ],
      "metadata": {
        "id": "iPn3saxEIrPH"
      },
      "execution_count": null,
      "outputs": []
    },
    {
      "cell_type": "markdown",
      "source": [
        "***Exercicio 11 :***\n",
        "Faça um algoritmo que receba o preço de custo de um produto e mostre o valor de venda. Sabe-se que o preço de\n",
        "custo receberá um acréscimo de acordo com um percentual informado pelo usuário.\n"
      ],
      "metadata": {
        "id": "Apl1s0TjmayZ"
      }
    },
    {
      "cell_type": "code",
      "source": [
        "preco_custo = float(input(\"Digite o valor de custo do produto : \"))\n",
        "preco_acrescimo = float(input(\"Informe um porcentual para venda \"))\n",
        "(preco_acrescimo / 100)\n",
        "preco_venda = preco_custo + preco_acrescimo\n",
        "print(\"O preco de venda é : \" , preco_venda)"
      ],
      "metadata": {
        "id": "DhiaqB-QKlD6"
      },
      "execution_count": null,
      "outputs": []
    },
    {
      "cell_type": "markdown",
      "source": [
        "***Exercicio 12 :***\n",
        "O custo ao consumidor de um carro novo é a soma do custo de fábrica com a percentagem do distribuidor e dos\n",
        "impostos (aplicados, primeiro os impostos sobre o custo de fábrica, e depois a percentagem do distribuidor sobre o\n",
        "resultado). Supondo que a percentagem do distribuidor seja de 28% e os impostos 45%. Escrever um algoritmo que\n",
        "leia o custo de fábrica de um carro e informe o custo ao consumidor do mesmo.\n"
      ],
      "metadata": {
        "id": "g7OCaGmdmdb4"
      }
    },
    {
      "cell_type": "code",
      "source": [
        "custo_fabrica = float(input(\"Informe o valor do custo de fábrica : \"))\n",
        "imposto = 0.73\n",
        "total = custo_fabrica * imposto\n",
        "print(\"O valor total do carro é de : \" , custo_fabrica + total)\n"
      ],
      "metadata": {
        "id": "SxAZcIlbvuiy"
      },
      "execution_count": null,
      "outputs": []
    },
    {
      "cell_type": "markdown",
      "source": [
        "***Exercicio 13 :***\n",
        "Faça um algoritmo que receba um número e mostre uma mensagem caso este número seja maior que 10."
      ],
      "metadata": {
        "id": "QO-AZO5smiRQ"
      }
    },
    {
      "cell_type": "code",
      "source": [
        "numero = float(input(\"Digite um número : \"))\n",
        "if numero >10:\n",
        "  print(\"Numero maior que 10\")"
      ],
      "metadata": {
        "id": "7mgegL-dwUSS"
      },
      "execution_count": null,
      "outputs": []
    },
    {
      "cell_type": "markdown",
      "source": [
        "***Exercicio 14 :***\n",
        "Escrever um algoritmo que leia dois valores inteiro distintos e informe qual é o maior.\n"
      ],
      "metadata": {
        "id": "at0PW0DWmkw4"
      }
    },
    {
      "cell_type": "code",
      "source": [
        "valor1 = int(input(\"Digite um valor\"))\n",
        "valor2 = int(input(\"Digite um valor\"))\n",
        "if valor1 > valor2:\n",
        "  print(\"Valor 1 é maior\" , valor1)\n",
        "if valor2 > valor1:\n",
        "  print(\"Valor 2 é maior\" , valor2)"
      ],
      "metadata": {
        "id": "zqvC1dLMETmH"
      },
      "execution_count": null,
      "outputs": []
    },
    {
      "cell_type": "markdown",
      "source": [
        "***Exercicio 15 :***\n",
        "Testar o numero se esta entre 100 e 200 ( >100 e <200)  e AND"
      ],
      "metadata": {
        "id": "q6X6RsbRlU-x"
      }
    },
    {
      "cell_type": "code",
      "source": [
        "numero = int(input(\"Digite o número : \"))\n",
        "\n",
        "#testar o numero se esta entre 100 e 200 ( >100 e <200)  e AND\n",
        "\n",
        "if numero > 100 and numero < 200:\n",
        "  print(\"O numero esta entre 100 e 200\")\n",
        "else:\n",
        "  print(\"O numero não está entre 100 e 200\")\n",
        "\n"
      ],
      "metadata": {
        "id": "OVlc66pwjNyv"
      },
      "execution_count": null,
      "outputs": []
    },
    {
      "cell_type": "markdown",
      "source": [
        " ***Exercicio 16 :***\n",
        "Escrever um algoritmo que leia o nome e as três notas obtidas por um aluno durante o semestre. Calcular a sua\n",
        "média (aritmética), informar o nome e sua menção aprovado (media >= 7), Reprovado (media <= 5) e Recuperação\n",
        "(media entre 5.1 a 6.9).\n"
      ],
      "metadata": {
        "id": "lL2xO2pamoSh"
      }
    },
    {
      "cell_type": "code",
      "source": [
        "nome = input(\"Digite seu nome : \")\n",
        "nota1 = float(input(\"Informe sua primeira nota : \"))\n",
        "nota2 = float(input(\"Informe sua segunda nota : \"))\n",
        "nota3 = float(input(\"Informe sua terceira nota : \"))\n",
        "media = 3\n",
        "soma = nota1 + nota2 + nota3\n",
        "resultado = soma / media\n",
        "if resultado >=7:\n",
        "  print(\"Aluno\" , nome , \"foi aprovado, com a média \" , resultado )\n",
        "if resultado <=5:\n",
        "  print(\"Aluno\" , nome , \"foi reprovado, com a média\" , resultado )\n",
        "if resultado > 5.1 and resultado < 6.9:\n",
        " print(\"Aluno\" , nome , \"está de recuperação, com a nota \" , resultado )"
      ],
      "metadata": {
        "id": "mfOK7YkNH34I"
      },
      "execution_count": null,
      "outputs": []
    },
    {
      "cell_type": "markdown",
      "source": [
        "***Exercicio 17 :***\n",
        "Ler 80 números e ao final informar quantos número(s) est(á)ão no intervalo entre 10 (inclusive) e 150 (inclusive)"
      ],
      "metadata": {
        "id": "5UW3DHu3muUx"
      }
    },
    {
      "cell_type": "code",
      "source": [
        "qtdNumeros = 0\n",
        "qtdNumerosIntervalo = 0\n",
        "while qtdNumeros <5:\n",
        "  numeroTeste = int(input(\"Digite um numero : \"))\n",
        "  qtdNumeros += 1\n",
        "\n",
        "  if numeroTeste >= 10 and numeroTeste <=150 :\n",
        "    qtdNumerosIntervalo += 1\n",
        "\n",
        "print(\"A quantidade de números digitados entre 10 e 150 foi de : \" , qtdNumerosIntervalo)\n",
        "print(\"A quantidade de numeros digitados no intervalo é de : \" , qtdNumeros )\n",
        "print(\"A soma desses números é \" , )"
      ],
      "metadata": {
        "id": "8Jt9BVDLKtDS"
      },
      "execution_count": null,
      "outputs": []
    },
    {
      "cell_type": "code",
      "source": [
        "\n",
        "qtdNumeros = 0\n",
        "qtdNumerosIntervalo = 0\n",
        "listaIntervalo = []\n",
        "somaLista = 0\n",
        "\n",
        "while qtdNumeros <5:\n",
        "\n",
        "  numeroDigitado = int(input(\"Digite um número : \"))\n",
        "  qtdNumeros +=1\n",
        "\n",
        "  if numeroDigitado >= 10 and numeroDigitado <= 150 :\n",
        "    qtdNumerosIntervalo += 1\n",
        "    listaIntervalo.append(numeroDigitado)\n",
        "print(\"A quantidade de números digitados entre 10 de 150 foi de : \", qtdNumerosIntervalo)\n",
        "print(\"Os números digitados no intervalo foi : \")\n",
        "print(listaIntervalo.sort())\n",
        "for x in listaIntervalo:\n",
        "  somaLista += x\n",
        "print(\"A soma desses números foi de : \", somaLista)\n",
        "print(\"A média desses números é : \", somaLista/qtdNumerosIntervalo)\n",
        "listaIntervalo.sort()\n",
        "print(\"Esses são os números ordenados :\", listaIntervalo)\n",
        "listaIntervalo.reverse()\n",
        "print(\"Agora em ordem decrescente : \", listaIntervalo)\n",
        "print(\"Os números pares são : \")\n",
        "listaIntervalo.sort()\n",
        "listaPar = []\n",
        "listaImpar = []\n",
        "for x in listaIntervalo:\n",
        "  resto = x%2\n",
        "  if resto == 0 :\n",
        "\n",
        "    print(x)\n",
        "print(\"Os numeros impares são : \")\n",
        "for x in listaIntervalo:\n",
        "\n",
        "\n"
      ],
      "metadata": {
        "id": "WmuC63O2KEFW"
      },
      "execution_count": null,
      "outputs": []
    },
    {
      "cell_type": "markdown",
      "source": [
        " ***Exercicio 18 :***\n",
        " Faça um algoritmo que receba a idade de 75 pessoas e mostre mensagem informando “maior de idade” e “menor de\n",
        "idade” para cada pessoa. Considere a idade a partir de 18 anos como maior de idade."
      ],
      "metadata": {
        "id": "LH5k3DGgmxkX"
      }
    },
    {
      "cell_type": "code",
      "source": [
        "cont = 0\n",
        "while cont<=75:\n",
        " idade = int(input(\"Qual a sua idade? : \"))\n",
        " if idade >= 18:\n",
        "  print(\"Voce é maior de idade : \")\n",
        " else:\n",
        "  if idade < 18:\n",
        "    print(\"Voce é menor de idade : \")\n",
        "cont += 1"
      ],
      "metadata": {
        "id": "iLAGRZmesDng"
      },
      "execution_count": null,
      "outputs": []
    },
    {
      "cell_type": "markdown",
      "source": [
        "***Exercicio 19 :***\n",
        "Escrever um algoritmo que leia o nome e o sexo de 56 pessoas e informe o nome e se ela é homem ou mulher. No\n",
        "final informe total de homens e de mulheres.\n"
      ],
      "metadata": {
        "id": "lhnzW-UIm0ha"
      }
    },
    {
      "cell_type": "code",
      "source": [
        "h = \"homem\"\n",
        "m = \"mulher\"\n",
        "cont = 0\n",
        "while cont <56:\n",
        "  nome = input(\"Qual seu nome ? \")\n",
        "  sexo = input(\"Qual seu sexo? \")\n",
        "  if sexo == h:\n",
        "    h += 1\n",
        "  else:\n",
        "      if sexo == m:\n",
        "        m +=1\n",
        "print(\"Total de homens é \" , h)\n",
        "\n"
      ],
      "metadata": {
        "colab": {
          "base_uri": "https://localhost:8080/",
          "height": 245
        },
        "id": "BLMvkFPxvsrQ",
        "outputId": "bf0b9623-6ede-490b-d73a-654d24a77635"
      },
      "execution_count": null,
      "outputs": [
        {
          "name": "stdout",
          "output_type": "stream",
          "text": [
            "Qual seu nome ? asaph\n",
            "Qual seu sexo? homem\n"
          ]
        },
        {
          "output_type": "error",
          "ename": "TypeError",
          "evalue": "can only concatenate str (not \"int\") to str",
          "traceback": [
            "\u001b[0;31m---------------------------------------------------------------------------\u001b[0m",
            "\u001b[0;31mTypeError\u001b[0m                                 Traceback (most recent call last)",
            "\u001b[0;32m<ipython-input-21-5703fc204a15>\u001b[0m in \u001b[0;36m<cell line: 4>\u001b[0;34m()\u001b[0m\n\u001b[1;32m      6\u001b[0m   \u001b[0msexo\u001b[0m \u001b[0;34m=\u001b[0m \u001b[0minput\u001b[0m\u001b[0;34m(\u001b[0m\u001b[0;34m\"Qual seu sexo? \"\u001b[0m\u001b[0;34m)\u001b[0m\u001b[0;34m\u001b[0m\u001b[0;34m\u001b[0m\u001b[0m\n\u001b[1;32m      7\u001b[0m   \u001b[0;32mif\u001b[0m \u001b[0msexo\u001b[0m \u001b[0;34m==\u001b[0m \u001b[0mh\u001b[0m\u001b[0;34m:\u001b[0m\u001b[0;34m\u001b[0m\u001b[0;34m\u001b[0m\u001b[0m\n\u001b[0;32m----> 8\u001b[0;31m     \u001b[0mh\u001b[0m \u001b[0;34m+=\u001b[0m \u001b[0;36m1\u001b[0m\u001b[0;34m\u001b[0m\u001b[0;34m\u001b[0m\u001b[0m\n\u001b[0m\u001b[1;32m      9\u001b[0m   \u001b[0;32melse\u001b[0m\u001b[0;34m:\u001b[0m\u001b[0;34m\u001b[0m\u001b[0;34m\u001b[0m\u001b[0m\n\u001b[1;32m     10\u001b[0m       \u001b[0;32mif\u001b[0m \u001b[0msexo\u001b[0m \u001b[0;34m==\u001b[0m \u001b[0mm\u001b[0m\u001b[0;34m:\u001b[0m\u001b[0;34m\u001b[0m\u001b[0;34m\u001b[0m\u001b[0m\n",
            "\u001b[0;31mTypeError\u001b[0m: can only concatenate str (not \"int\") to str"
          ]
        }
      ]
    },
    {
      "cell_type": "markdown",
      "source": [
        "***Exercicio 20 :***\n",
        "A concessionária de veículos “CARANGO VELHO” está vendendo os seus veículos com desconto. Faça um\n",
        "algoritmo que calcule e exiba o valor do desconto e o valor a ser pago pelo cliente de vários carros. O desconto\n",
        "deverá ser calculado de acordo com o ano do veículo. Até 2000 - 12% e acima de 2000 - 7%. O sistema deverá\n",
        "perguntar se deseja continuar calculando desconto até que a resposta seja: “(N) Não” . Informar total de carros com\n",
        "ano até 2000 e total geral.\n"
      ],
      "metadata": {
        "id": "jqdQayvwm4wI"
      }
    },
    {
      "cell_type": "markdown",
      "source": [
        "***Exercicio 21 :***\n",
        "Escrever um algoritmo que leia os dados de “N” pessoas (nome, sexo, idade e saúde) e informe se está apta ou não\n",
        "para cumprir o serviço militar obrigatório. Informe os totais."
      ],
      "metadata": {
        "id": "Gj-afo5am7GR"
      }
    },
    {
      "cell_type": "markdown",
      "source": [
        "***Exercicio 22 :***\n",
        "Faça um algoritmo que receba o preço de custo e o preço de venda de 40 produtos. Mostre como resultado se\n",
        "houve lucro, prejuízo ou empate para cada produto. Informe media de preço de custo e do preço de venda."
      ],
      "metadata": {
        "id": "aQJp10qom90w"
      }
    },
    {
      "cell_type": "markdown",
      "source": [
        "***Exercicio 23 :***\n",
        "Faça um algoritmo que receba um número e mostre uma mensagem caso este número sege maior que 80, menor\n",
        "que 25 ou igual a 40"
      ],
      "metadata": {
        "id": "S9ztlQRMnDoY"
      }
    },
    {
      "cell_type": "markdown",
      "source": [
        "***Exercicio 24 :***\n",
        "Faça um algoritmo que receba “N” números e mostre positivo, negativo ou zero para cada número.\n"
      ],
      "metadata": {
        "id": "VE9mYhJTnG2A"
      }
    },
    {
      "cell_type": "markdown",
      "source": [
        "***Exercicio 25 :***\n",
        "Faça um algoritmo que leia dois números e identifique se são iguais ou diferentes. Caso eles sejam iguais imprima\n",
        "uma mensagem dizendo que eles são iguais. Caso sejam diferentes, informe qual número é o maior, e uma\n",
        "mensagem que são diferentes."
      ],
      "metadata": {
        "id": "QdpM_H2QnJeI"
      }
    },
    {
      "cell_type": "markdown",
      "source": [
        "***Exercicio 26 :***\n",
        "Faça um algoritmo que leia um número de 1 a 5 e escreva por extenso. Caso o usuário digite um número que não\n",
        "esteja neste intervalo, exibir mensagem: número inválido"
      ],
      "metadata": {
        "id": "jHjKTBP3nMeg"
      }
    },
    {
      "cell_type": "markdown",
      "source": [
        "***Exercicio 27 :***\n",
        "A concessionária de veículos “CARANGO” está vendendo os seus veículos com desconto. Faça um algoritmo que\n",
        "calcule e exiba o valor do desconto e o valor a ser pago pelo cliente. O desconto deverá ser calculado sobre o valor\n",
        "do veículo de acordo com o combustível (álcool – 25%, gasolina – 21% ou diesel –14%). Com valor do veículo zero\n",
        "encerra entrada de dados. Informe total de desconto e total pago pelos clientes"
      ],
      "metadata": {
        "id": "mhtVjnnsnRXQ"
      }
    },
    {
      "cell_type": "markdown",
      "source": [
        "***Exercicio 28 :***\n",
        "Escrever um algoritmo para uma empresa que decide dar um reajuste a seus 584 funcionários de acordo com os\n",
        "seguintes critérios:\n",
        "a) 50% para aqueles que ganham menos do que três salários mínimos;\n",
        "b) 20% para aqueles que ganham entre três até dez salários mínimos;\n",
        "c) 15% para aqueles que ganham acima de dez até vinte salários mínimos;\n",
        "d) 10% para os demais funcionários.\n",
        "\n",
        "\n",
        "Leia o nome do funcionário, seu salário e o valor do salário mínimo. Calcule o seu novo salário reajustado. Escrever o\n",
        "nome do funcionário, o reajuste e seu novo salário. Calcule quanto à empresa vai aumentar sua folha de pagamento."
      ],
      "metadata": {
        "id": "N0wmMouunURa"
      }
    },
    {
      "cell_type": "markdown",
      "source": [
        "***Exercicio 29 :***\n",
        "Faça um algoritmo que receba o número do mês e mostre o mês correspondente. Valide mês inválido."
      ],
      "metadata": {
        "id": "VSLvdfvtnW0o"
      }
    },
    {
      "cell_type": "markdown",
      "source": [
        "***Exercicio 30 :***\n",
        "Faça um algoritmo que receba o nome a idade, o sexo e salário fixo de um funcionário. Mostre o nome e o salário\n",
        "líquido:\n",
        "\n"
      ],
      "metadata": {
        "id": "_lHO8Olrne8X"
      }
    },
    {
      "cell_type": "markdown",
      "source": [
        " ***Exercicio 31 :***\n",
        " Escrever um algoritmo que leia três valores inteiros distintos e os escreva em ordem crescente.\n"
      ],
      "metadata": {
        "id": "zfmt8zM2n1VP"
      }
    },
    {
      "cell_type": "markdown",
      "source": [
        "***Exercicio 32 :***\n",
        "Dados três valores A, B e C, em que A e B são números reais e C é um caractere, pede-se para imprimir o resultado\n",
        "da operação de A por B se C for um símbolo de operador aritmético; caso contrário deve ser impressa uma\n",
        "mensagem de operador não definido. Tratar erro de divisão por zero"
      ],
      "metadata": {
        "id": "oQbhj5B0n5If"
      }
    },
    {
      "cell_type": "markdown",
      "source": [
        "***Exercicio 31 :***\n",
        "Escrever um algoritmo que leia três valores inteiros e verifique se eles podem ser os lados de um triângulo. Se\n",
        "forem, informar qual o tipo de triângulo que eles formam: equilátero, isóscele ou escaleno.\n",
        "Propriedade: o comprimento de cada lado de um triângulo é menor do que a soma dos comprimentos dos outros\n",
        "dois lados.\n",
        "\n",
        "Triângulo Equilátero: aquele que tem os comprimentos dos três lados iguais;\n",
        "Triângulo Isóscele: aquele que tem os comprimentos de dois lados iguais. Portanto, todo triângulo equilátero é\n",
        "também isóscele;\n",
        "Triângulo Escaleno: aquele que tem os comprimentos de seus três lados diferentes"
      ],
      "metadata": {
        "id": "H63DMoqon88I"
      }
    },
    {
      "cell_type": "markdown",
      "source": [
        "***Exercicio 32 :***\n",
        "A escola “APRENDER” faz o pagamento de seus professores por hora/aula. Faça um algoritmo que calcule e exiba o\n",
        "salário de um professor. Sabe-se que o valor da hora/aula segue a tabela abaixo:\n",
        "Professor Nível 1 R$12,00 por hora/aula\n",
        "Professor Nível 2 R$17,00 por hora/aula\n",
        "Professor Nível 3 R$25,00 por hora/aula\n"
      ],
      "metadata": {
        "id": "5_xPmi5loB-A"
      }
    },
    {
      "cell_type": "markdown",
      "source": [
        "***Exercicio 33 :***\n",
        "Elabore um algoritmo que, dada a idade de um nadador. Classifique-o em uma das seguintes categorias:\n",
        "Infantil A = 5 - 7 anos\n",
        "Infantil B = 8 - 10 anos\n",
        "juvenil A = 11- 13 anos\n",
        "juvenil B = 14 - 17 anos\n",
        "Sênior = 18 - 25 anos\n",
        "Apresentar mensagem “idade fora da faixa etária” quando for outro ano não contemplado.\n"
      ],
      "metadata": {
        "id": "ViKLw8BZoESg"
      }
    },
    {
      "cell_type": "markdown",
      "source": [
        "***Exercicio 34 :***\n",
        "Faça um algoritmo que calcule o valor da conta de luz de uma pessoa. Sabe-se que o cálculo da conta de luz segue\n",
        "a tabela abaixo:\n",
        "Tipo de Cliente Valor do KW/h\n",
        "1 (Residência) 0,60\n",
        "2 (Comércio) 0,48\n",
        "3 (Indústria) 1,29"
      ],
      "metadata": {
        "id": "gy-AR2b2oHS4"
      }
    }
  ]
}